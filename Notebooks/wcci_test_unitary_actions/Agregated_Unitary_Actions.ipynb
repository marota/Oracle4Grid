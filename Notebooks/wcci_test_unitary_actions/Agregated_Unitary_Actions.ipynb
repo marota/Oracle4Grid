{
 "cells": [
  {
   "cell_type": "code",
   "execution_count": 1,
   "metadata": {},
   "outputs": [],
   "source": [
    "import os\n",
    "import pandas as pd\n",
    "import numpy as np\n",
    "import json\n",
    "from glob import glob\n",
    "from pprint import pprint"
   ]
  },
  {
   "cell_type": "code",
   "execution_count": 2,
   "metadata": {},
   "outputs": [],
   "source": [
    "unitary_per_scenearios = {}\n",
    "\n",
    "for f_name in glob('actions_dict/*.json'):\n",
    "    scenario_name = f_name.split('_')[-2]\n",
    "    with open(f_name, 'r') as f:\n",
    "        unitary_per_scenearios[scenario_name] = json.load(f)\n",
    "    \n",
    "# pprint(unitary_per_scenearios)"
   ]
  },
  {
   "cell_type": "code",
   "execution_count": 3,
   "metadata": {},
   "outputs": [
    {
     "data": {
      "text/plain": [
       "['sub_4',\n",
       " 'sub_5',\n",
       " 'sub_21',\n",
       " 'sub_1',\n",
       " 'sub_16',\n",
       " 'sub_22',\n",
       " 'sub_28',\n",
       " 'sub_23',\n",
       " 'sub_26',\n",
       " 'sub_11']"
      ]
     },
     "execution_count": 3,
     "metadata": {},
     "output_type": "execute_result"
    }
   ],
   "source": [
    "# Expert system acts over the following substations\n",
    "\n",
    "all_subs = []\n",
    "for _, unitary in unitary_per_scenearios.items():\n",
    "    all_subs.extend(list(unitary.keys()))\n",
    "    \n",
    "subs = list(set(all_subs))\n",
    "subs"
   ]
  },
  {
   "cell_type": "code",
   "execution_count": 4,
   "metadata": {},
   "outputs": [],
   "source": [
    "agg_unitary_actions = {\n",
    "    'sub_23': {\n",
    "        'a': {'gens_id_bus': [[11, 2], [12, 2], [13, 2]],\n",
    "              'lines_id_bus': [[31, 2]]},\n",
    "        'b': {},\n",
    "              },\n",
    "    'sub_16': {\n",
    "        'a': {'lines_id_bus': [[18, 2], [22, 2], [49, 2]],\n",
    "              'loads_id_bus': [[17, 2]]},\n",
    "        'b': {},\n",
    "              },\n",
    "    'sub_22': {\n",
    "#         'a': {'gens_id_bus': [[10, 2]],\n",
    "#               'lines_id_bus': [[29, 2]]},\n",
    "        'b': {'lines_id_bus': [[29, 2], [31, 2]],\n",
    "              'loads_id_bus': [[23, 2]]},\n",
    "        'c': {'gens_id_bus': [[10, 2]],\n",
    "              'lines_id_bus': [[31, 2], [29, 1], [39, 1]],\n",
    "              'loads_id_bus': [[23, 2]]},\n",
    "#         'd': {'gens_id_bus': [[10, 2]],\n",
    "#               'lines_id_bus': [[31, 2]],\n",
    "#               'loads_id_bus': [[23, 2]]},\n",
    "        'e': {},\n",
    "              },\n",
    "    'sub_21': {\n",
    "        'a': {'lines_id_bus': [[27, 2], [29, 2], [36, 2]],\n",
    "              'loads_id_bus': [[22, 2]]},\n",
    "#         'b': {'gens_id_bus': [[9, 2]],\n",
    "#              'lines_id_bus': [[30, 2]]},\n",
    "        'c': {'lines_id_bus': [[26, 2], [30, 2]]},\n",
    "        'd': {},\n",
    "              },\n",
    "    'sub_1': {\n",
    "        'a': {'gens_id_bus': [[0, 2]],\n",
    "             'lines_id_bus': [[3, 2], [4, 2]]},\n",
    "#         'b': {'lines_id_bus': [[3, 2], [4, 2]]},\n",
    "        'c': {},\n",
    "             },\n",
    "    'sub_11': {\n",
    "        'a': {'lines_id_bus': [[11, 2]],\n",
    "              'loads_id_bus': [[12, 2]]},\n",
    "        'b': {'lines_id_bus': [[13, 2]],\n",
    "              'loads_id_bus': [[12, 2]]},\n",
    "#         'c': {'lines_id_bus': [[11, 1], [13, 2]],\n",
    "#               'loads_id_bus': [[12, 2]]},\n",
    "        'd': {},\n",
    "              },\n",
    "    'sub_28': {\n",
    "        'a': {'lines_id_bus': [[42, 2], [44, 2], [57, 2]]},\n",
    "        'b': {},\n",
    "              },\n",
    "    'sub_5': {\n",
    "#         'a': {'lines_id_bus': [[46, 2]], 'loads_id_bus': [[6, 2]]},\n",
    "        'b': {'lines_id_bus': [[46, 2], [55, 1]],\n",
    "              'loads_id_bus': [[6, 2]]},\n",
    "        'c': {},\n",
    "             },\n",
    "    'sub_4': {\n",
    "        'a': {'lines_id_bus': [[5, 2], [6, 2], [55, 2]]},\n",
    "        'b': {},\n",
    "             },\n",
    "    'sub_26': {\n",
    "#         'a': {'lines_id_bus': [[37, 2], [41, 2]]},\n",
    "        'b': {'gens_id_bus': [[14, 2]],\n",
    "             'lines_id_bus': [[37, 2], [39, 2]],\n",
    "             'loads_id_bus': [[27, 2]]},\n",
    "        'c': {},\n",
    "              },\n",
    "}"
   ]
  },
  {
   "cell_type": "code",
   "execution_count": 5,
   "metadata": {},
   "outputs": [],
   "source": [
    "with open('actions_dict/agg_unitary_actions.json', 'w') as f:\n",
    "    json.dump(agg_unitary_actions, f)"
   ]
  }
 ],
 "metadata": {
  "kernelspec": {
   "display_name": "Python 3",
   "language": "python",
   "name": "python3"
  },
  "language_info": {
   "codemirror_mode": {
    "name": "ipython",
    "version": 3
   },
   "file_extension": ".py",
   "mimetype": "text/x-python",
   "name": "python",
   "nbconvert_exporter": "python",
   "pygments_lexer": "ipython3",
   "version": "3.7.5"
  }
 },
 "nbformat": 4,
 "nbformat_minor": 4
}
